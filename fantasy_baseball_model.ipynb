{
 "cells": [
  {
   "cell_type": "markdown",
   "metadata": {},
   "source": [
    "# Fantasy Baseball Statistical Analysis\n",
    "\n",
    "This is a linear regression analysis of fantasy baseball year over year performance. The goal is to create and predict a season fantasy score that equally weights the 5 fantasy baseball hitting categories: Hits, Runs, RBIs, Home Runs, and Stolen Bases. A players ranking for each individual category is a number 0-1 corresponding with their percentile ranking for that season in that category. A predictive model, using linear regression, then attempts to predict a players future season fantasy ranking using certain variables from the pioir season.\n",
    "\n",
    "### data source\n",
    "Data for historic baseball seasons was gathered from Sean Lahaman's baseball database, http://www.seanlahman.com/."
   ]
  },
  {
   "cell_type": "code",
   "execution_count": 1,
   "metadata": {
    "scrolled": true
   },
   "outputs": [
    {
     "name": "stdout",
     "output_type": "stream",
     "text": [
      "Index(['playerID', 'yearID', 'stint', 'teamID', 'lgID', 'G', 'AB', 'R', 'H',\n",
      "       '2B', '3B', 'HR', 'RBI', 'SB', 'CS', 'BB', 'SO', 'IBB', 'HBP', 'SH',\n",
      "       'SF', 'GIDP'],\n",
      "      dtype='object')\n"
     ]
    }
   ],
   "source": [
    "import pandas as pd\n",
    "data = pd.read_csv(\"~/Documents/Data/fb_regression_project/baseballdatabank-master/core/Batting.csv\")\n",
    "print(data.columns)"
   ]
  },
  {
   "cell_type": "markdown",
   "metadata": {},
   "source": [
    "Adding some supplemental data points needed for our analysis:"
   ]
  },
  {
   "cell_type": "code",
   "execution_count": 2,
   "metadata": {},
   "outputs": [],
   "source": [
    "    # batting average \n",
    "    data['BA'] = pd.Series((data.H/data.AB)*1000, index=data.index)\n",
    "    # last year\n",
    "    data['last_year'] = data.yearID - 1\n",
    "    # slugging percentage\n",
    "    data[\"SLG\"] = (data['HR']*3.0 + data['3B']*3.0 + data['2B']*2.0 + data['3B']*3.0 + (data['H'] - (data['HR'] - data['3B'] - data['2B'])))/data['AB']\n",
    "    # on base percentage\n",
    "    data[\"OBP\"] = (data.H + data.BB + data.HBP)/(data.AB + data.BB + data.SF + data.HBP)\n",
    "    # on base plus slugging\n",
    "    data[\"OPS\"] = data.SLG + data.OBP"
   ]
  },
  {
   "cell_type": "markdown",
   "metadata": {},
   "source": [
    "Let's preview the first 5 rows of our fantasy relevant data:"
   ]
  },
  {
   "cell_type": "code",
   "execution_count": 3,
   "metadata": {},
   "outputs": [
    {
     "name": "stdout",
     "output_type": "stream",
     "text": [
      "    playerID          BA   R  HR   RBI    SB\n",
      "0  abercda01    0.000000   0   0   0.0   0.0\n",
      "1   addybo01  271.186441  30   0  13.0   8.0\n",
      "2  allisar01  291.970803  28   0  19.0   3.0\n",
      "3  allisdo01  330.827068  28   2  27.0   1.0\n",
      "4  ansonca01  325.000000  29   0  16.0   6.0\n",
      "5  armstbo01  224.489796   9   0   5.0   0.0\n",
      "6  barkeal01  250.000000   0   0   2.0   0.0\n",
      "7  barnero01  401.273885  66   0  34.0  11.0\n",
      "8  barrebi01  200.000000   1   0   1.0   0.0\n",
      "9  barrofr01  151.162791  13   0  11.0   1.0\n"
     ]
    }
   ],
   "source": [
    "key_data = ['playerID','BA', 'R', 'HR', 'RBI', 'SB']\n",
    "print(data[key_data].head(10))"
   ]
  },
  {
   "cell_type": "markdown",
   "metadata": {},
   "source": [
    "Every fantasy data point will be ranked on a percentile scale. Batting average (BA) will need to be limited to batters with some number of At Bats (AB). It would be possible for a batter to have 1 AB with a 1000 batting average, which would be misleading.\n",
    "Let's examine AB plotted with BA:"
   ]
  },
  {
   "cell_type": "code",
   "execution_count": 4,
   "metadata": {},
   "outputs": [
    {
     "name": "stdout",
     "output_type": "stream",
     "text": [
      "Index(['playerID', 'yearID', 'stint', 'teamID', 'lgID', 'G', 'AB', 'R', 'H',\n",
      "       '2B', '3B', 'HR', 'RBI', 'SB', 'CS', 'BB', 'SO', 'IBB', 'HBP', 'SH',\n",
      "       'SF', 'GIDP', 'BA', 'last_year', 'SLG', 'OBP', 'OPS'],\n",
      "      dtype='object')\n"
     ]
    }
   ],
   "source": [
    "print(data.columns)"
   ]
  },
  {
   "cell_type": "code",
   "execution_count": 5,
   "metadata": {
    "scrolled": true
   },
   "outputs": [
    {
     "data": {
      "text/plain": [
       "<matplotlib.axes._subplots.AxesSubplot at 0x118c1e128>"
      ]
     },
     "execution_count": 5,
     "metadata": {},
     "output_type": "execute_result"
    }
   ],
   "source": [
    "data.plot.scatter('BA', 'AB', 1)"
   ]
  },
  {
   "cell_type": "markdown",
   "metadata": {},
   "source": [
    "Examing the graph, we should limit data to batters with at least 100 ABs. We will also limit to 2010 and on. The dataset goes back to the 1800's, and the game has changed quite a bit since then."
   ]
  },
  {
   "cell_type": "code",
   "execution_count": 6,
   "metadata": {},
   "outputs": [],
   "source": [
    "data = data[(data.AB >= 100) & (data.yearID >= 2010)]"
   ]
  },
  {
   "cell_type": "markdown",
   "metadata": {},
   "source": [
    "To quantify overall performance, we will calculate a fantasy_score that equally weights all five batting metrics. Since fantasy baseball scoring is based on winning each category, this equal weighting makes sense."
   ]
  },
  {
   "cell_type": "code",
   "execution_count": 7,
   "metadata": {},
   "outputs": [],
   "source": [
    "# create percentile ranking by year for each metric\n",
    "data['BA_rank'] = data.groupby(data.yearID)['BA'].rank(pct=True)\n",
    "data['R_rank'] = data.groupby(\"yearID\")['R'].rank(pct=True)\n",
    "data['HR_rank'] = data.groupby(\"yearID\")['HR'].rank(pct=True)\n",
    "data['RBI_rank'] = data.groupby(\"yearID\")['RBI'].rank(pct=True)\n",
    "data['SB_rank'] = data.groupby(\"yearID\")['SB'].rank(pct=True)\n",
    "data['fantasy_score'] = pd.Series(0.2 * data.BA_rank + 0.2 * data.R_rank + 0.2 * data.HR_rank + 0.2 * data.RBI_rank + 0.2 * data.SB_rank, index=data.index)\n"
   ]
  },
  {
   "cell_type": "markdown",
   "metadata": {},
   "source": [
    "Now we will join the dataset with itself, using our last_year variable we created."
   ]
  },
  {
   "cell_type": "code",
   "execution_count": 8,
   "metadata": {},
   "outputs": [
    {
     "name": "stdout",
     "output_type": "stream",
     "text": [
      "Index(['playerID', 'yearID_x', 'stint_x', 'teamID_x', 'lgID_x', 'G_x', 'AB_x',\n",
      "       'R_x', 'H_x', '2B_x', '3B_x', 'HR_x', 'RBI_x', 'SB_x', 'CS_x', 'BB_x',\n",
      "       'SO_x', 'IBB_x', 'HBP_x', 'SH_x', 'SF_x', 'GIDP_x', 'BA_x',\n",
      "       'last_year_x', 'SLG_x', 'OBP_x', 'OPS_x', 'BA_rank_x', 'R_rank_x',\n",
      "       'HR_rank_x', 'RBI_rank_x', 'SB_rank_x', 'fantasy_score_x', 'yearID_y',\n",
      "       'stint_y', 'teamID_y', 'lgID_y', 'G_y', 'AB_y', 'R_y', 'H_y', '2B_y',\n",
      "       '3B_y', 'HR_y', 'RBI_y', 'SB_y', 'CS_y', 'BB_y', 'SO_y', 'IBB_y',\n",
      "       'HBP_y', 'SH_y', 'SF_y', 'GIDP_y', 'BA_y', 'last_year_y', 'SLG_y',\n",
      "       'OBP_y', 'OPS_y', 'BA_rank_y', 'R_rank_y', 'HR_rank_y', 'RBI_rank_y',\n",
      "       'SB_rank_y', 'fantasy_score_y'],\n",
      "      dtype='object')\n",
      "    playerID  yearID_x  stint_x teamID_x lgID_x  G_x  AB_x  R_x  H_x  2B_x  \\\n",
      "0  abreubo01      2010        1      LAA     AL  154   573   88  146    41   \n",
      "1  alvarpe01      2010        1      PIT     NL   95   347   42   89    21   \n",
      "2  andruel01      2010        1      TEX     AL  148   588   88  156    15   \n",
      "3  ankieri01      2010        2      ATL     NL   47   119   17   25     6   \n",
      "4  avilaal01      2010        1      DET     AL  104   294   28   67    12   \n",
      "5  avilemi01      2010        1      KCA     AL  110   424   63  129    16   \n",
      "6  avilemi01      2010        1      KCA     AL  110   424   63  129    16   \n",
      "7  aybarer01      2010        1      LAA     AL  138   534   69  135    18   \n",
      "8  bakerje03      2010        1      CHN     NL   79   206   29   56    13   \n",
      "9  barajro01      2010        1      NYN     NL   74   249   30   56    11   \n",
      "\n",
      "        ...         last_year_y     SLG_y     OBP_y     OPS_y  BA_rank_y  \\\n",
      "0       ...                2010  0.478088  0.352740  0.830827   0.484649   \n",
      "1       ...                2010  0.370213  0.272031  0.642243   0.048246   \n",
      "2       ...                2010  0.470187  0.346687  0.816875   0.769737   \n",
      "3       ...                2010  0.444737  0.296117  0.740853   0.311404   \n",
      "4       ...                2010  0.650862  0.388686  1.039548   0.866228   \n",
      "5       ...                2010  0.567568  0.261307  0.828874   0.166667   \n",
      "6       ...                2010  0.534653  0.339623  0.874276   0.964912   \n",
      "7       ...                2010  0.593525  0.322148  0.915673   0.765351   \n",
      "8       ...                2010  0.512438  0.301887  0.814325   0.657895   \n",
      "9       ...                2010  0.462295  0.287425  0.749720   0.243421   \n",
      "\n",
      "   R_rank_y  HR_rank_y  RBI_rank_y  SB_rank_y  fantasy_score_y  \n",
      "0  0.689693   0.580044    0.775219   0.910088         0.687939  \n",
      "1  0.177632   0.339912    0.245614   0.254386         0.213158  \n",
      "2  0.962719   0.418860    0.775219   0.978070         0.780921  \n",
      "3  0.608553   0.609649    0.542763   0.771930         0.568860  \n",
      "4  0.766447   0.850877    0.889254   0.487939         0.772149  \n",
      "5  0.089912   0.418860    0.466009   0.771930         0.382675  \n",
      "6  0.148026   0.177632    0.042763   0.563596         0.379386  \n",
      "7  0.833333   0.635965    0.768640   0.960526         0.792763  \n",
      "8  0.229167   0.259868    0.337719   0.092105         0.315351  \n",
      "9  0.399123   0.803728    0.666667   0.092105         0.441009  \n",
      "\n",
      "[10 rows x 65 columns]\n"
     ]
    }
   ],
   "source": [
    "data = pd.merge(data, data, left_on = ['playerID','yearID'], right_on = ['playerID','last_year'])\n",
    "\n",
    "print(data.columns)\n",
    "print(data.head(10))\n"
   ]
  },
  {
   "cell_type": "markdown",
   "metadata": {},
   "source": [
    "Now we need to determine which variables will be good candidates for our predictive model. We will now attempt to identify strong correlations between a prior years individual metric performance, and the following year's fantasy_score. Below we examine the scatter plot for prior year hitting and following year fantasy score."
   ]
  },
  {
   "cell_type": "code",
   "execution_count": 9,
   "metadata": {
    "scrolled": true
   },
   "outputs": [
    {
     "data": {
      "text/plain": [
       "<matplotlib.axes._subplots.AxesSubplot at 0x116fb5668>"
      ]
     },
     "execution_count": 9,
     "metadata": {},
     "output_type": "execute_result"
    },
    {
     "data": {
      "image/png": "[encoded data removed]",
      "text/plain": [
       "<Figure size 432x288 with 1 Axes>"
      ]
     },
     "metadata": {
      "needs_background": "light"
     },
     "output_type": "display_data"
    }
   ],
   "source": [
    "data.plot.scatter('H_x','fantasy_score_y')"
   ]
  },
  {
   "cell_type": "markdown",
   "metadata": {},
   "source": [
    "Instead of plotting every variable at our disposal, we will define a function \"corr_check\" that describes the r and p values."
   ]
  },
  {
   "cell_type": "code",
   "execution_count": 10,
   "metadata": {
    "scrolled": false
   },
   "outputs": [
    {
     "name": "stdout",
     "output_type": "stream",
     "text": [
      "r: 0.0075967033054355725 is a very Weak correlation.\n",
      "p: 0.7029103066849749 indicates weak evidence to reject the null hypothesis.\n",
      "...  yearID_x\n",
      "r: -0.02736166883736553 is a very Weak correlation.\n",
      "p: 0.16946081824082707 indicates weak evidence to reject the null hypothesis.\n",
      "...  stint_x\n",
      "r: 0.32263634340267877 is a weak correlation.\n",
      "p: 3.2931530153327738e-62 indicates strong evidence to reject the null hypothesis.\n",
      "...  G_x\n",
      "r: 0.4163656977381193 is a moderate correlation.\n",
      "p: 2.279819350264612e-106 indicates strong evidence to reject the null hypothesis.\n",
      "...  AB_x\n",
      "r: 0.4837993651804385 is a moderate correlation.\n",
      "p: 3.483869362449192e-148 indicates strong evidence to reject the null hypothesis.\n",
      "...  R_x\n",
      "r: 0.4504291950204716 is a moderate correlation.\n",
      "p: 2.588244532267632e-126 indicates strong evidence to reject the null hypothesis.\n",
      "...  H_x\n",
      "r: 0.4093105162131655 is a moderate correlation.\n",
      "p: 1.6198075059622156e-102 indicates strong evidence to reject the null hypothesis.\n",
      "...  2B_x\n",
      "r: 0.23068436079603785 is a weak correlation.\n",
      "p: 7.939144855277032e-32 indicates strong evidence to reject the null hypothesis.\n",
      "...  3B_x\n",
      "r: 0.38517521242984964 is a weak correlation.\n",
      "p: 5.037999700276839e-90 indicates strong evidence to reject the null hypothesis.\n",
      "...  HR_x\n",
      "r: 0.4247070204740183 is a moderate correlation.\n",
      "p: 4.8249675140785005e-111 indicates strong evidence to reject the null hypothesis.\n",
      "...  RBI_x\n",
      "r: 0.27977317969092225 is a weak correlation.\n",
      "p: 1.3598547481287025e-46 indicates strong evidence to reject the null hypothesis.\n",
      "...  SB_x\n",
      "r: 0.2572371313500101 is a weak correlation.\n",
      "p: 2.043704567156839e-39 indicates strong evidence to reject the null hypothesis.\n",
      "...  CS_x\n",
      "r: 0.3523541009597809 is a weak correlation.\n",
      "p: 1.2119159239871898e-74 indicates strong evidence to reject the null hypothesis.\n",
      "...  BB_x\n",
      "r: 0.2974306595626585 is a weak correlation.\n",
      "p: 1.0477960499302074e-52 indicates strong evidence to reject the null hypothesis.\n",
      "...  SO_x\n",
      "r: 0.2624120201224233 is a weak correlation.\n",
      "p: 5.286596194951017e-41 indicates strong evidence to reject the null hypothesis.\n",
      "...  IBB_x\n",
      "r: 0.17219864831127904 is a very Weak correlation.\n",
      "p: 3.0306875107174434e-18 indicates strong evidence to reject the null hypothesis.\n",
      "...  HBP_x\n",
      "r: -0.05919182981464773 is a very Weak correlation.\n",
      "p: 0.002936491315545897 indicates strong evidence to reject the null hypothesis.\n",
      "...  SH_x\n",
      "r: 0.2628461725505082 is a weak correlation.\n",
      "p: 3.875976739752333e-41 indicates strong evidence to reject the null hypothesis.\n",
      "...  SF_x\n",
      "r: 0.2574314501160795 is a weak correlation.\n",
      "p: 1.7842809656180627e-39 indicates strong evidence to reject the null hypothesis.\n",
      "...  GIDP_x\n",
      "r: 0.3202323735181999 is a weak correlation.\n",
      "p: 2.9129651204489692e-61 indicates strong evidence to reject the null hypothesis.\n",
      "...  BA_x\n",
      "r: 0.0075967033054355725 is a very Weak correlation.\n",
      "p: 0.7029103066849749 indicates weak evidence to reject the null hypothesis.\n",
      "...  last_year_x\n",
      "r: 0.33518215476019536 is a weak correlation.\n",
      "p: 2.7228146755857714e-67 indicates strong evidence to reject the null hypothesis.\n",
      "...  SLG_x\n",
      "r: 0.30862769139943463 is a weak correlation.\n",
      "p: 8.198024754605306e-57 indicates strong evidence to reject the null hypothesis.\n",
      "...  OBP_x\n",
      "r: 0.3562091700647029 is a weak correlation.\n",
      "p: 2.3378032708215897e-76 indicates strong evidence to reject the null hypothesis.\n",
      "...  OPS_x\n",
      "r: 0.3183799788502342 is a weak correlation.\n",
      "p: 1.541504401937376e-60 indicates strong evidence to reject the null hypothesis.\n",
      "...  BA_rank_x\n",
      "r: 0.4647445460971721 is a moderate correlation.\n",
      "p: 2.1252182680572358e-135 indicates strong evidence to reject the null hypothesis.\n",
      "...  R_rank_x\n",
      "r: 0.37798972715336165 is a weak correlation.\n",
      "p: 1.674876407435335e-86 indicates strong evidence to reject the null hypothesis.\n",
      "...  HR_rank_x\n",
      "r: 0.4094225740969182 is a moderate correlation.\n",
      "p: 1.4093212436311706e-102 indicates strong evidence to reject the null hypothesis.\n",
      "...  RBI_rank_x\n",
      "r: 0.33066076332890265 is a weak correlation.\n",
      "p: 1.969582190527942e-65 indicates strong evidence to reject the null hypothesis.\n",
      "...  SB_rank_x\n",
      "r: 0.5087875164322389 is a moderate correlation.\n",
      "p: 3.1612074474632224e-166 indicates strong evidence to reject the null hypothesis.\n",
      "...  fantasy_score_x\n",
      "r: 0.0075967033054355725 is a very Weak correlation.\n",
      "p: 0.7029103066849749 indicates weak evidence to reject the null hypothesis.\n",
      "...  yearID_y\n",
      "r: -0.21312469541446713 is a weak correlation.\n",
      "p: 2.6372418320768e-27 indicates strong evidence to reject the null hypothesis.\n",
      "...  stint_y\n",
      "r: 0.8089523498307984 is a very Strong correlation.\n",
      "p: 0.0 indicates strong evidence to reject the null hypothesis.\n",
      "...  G_y\n",
      "r: 0.8811020447761826 is a very Strong correlation.\n",
      "p: 0.0 indicates strong evidence to reject the null hypothesis.\n",
      "...  AB_y\n",
      "r: 0.9232440037446494 is a very Strong correlation.\n",
      "p: 0.0 indicates strong evidence to reject the null hypothesis.\n",
      "...  R_y\n",
      "r: 0.9173539438028115 is a very Strong correlation.\n",
      "p: 0.0 indicates strong evidence to reject the null hypothesis.\n",
      "...  H_y\n",
      "r: 0.8409734120802338 is a very Strong correlation.\n",
      "p: 0.0 indicates strong evidence to reject the null hypothesis.\n",
      "...  2B_y\n",
      "r: 0.41991921594169085 is a moderate correlation.\n",
      "p: 2.4137167722624323e-108 indicates strong evidence to reject the null hypothesis.\n",
      "...  3B_y\n",
      "r: 0.7372020312129288 is a strong correlation.\n",
      "p: 0.0 indicates strong evidence to reject the null hypothesis.\n",
      "...  HR_y\n",
      "r: 0.8632833816835183 is a very Strong correlation.\n",
      "p: 0.0 indicates strong evidence to reject the null hypothesis.\n",
      "...  RBI_y\n",
      "r: 0.4483522667996806 is a moderate correlation.\n",
      "p: 4.960092632511471e-125 indicates strong evidence to reject the null hypothesis.\n",
      "...  SB_y\n",
      "r: 0.4348973514011433 is a moderate correlation.\n",
      "p: 6.182523138532639e-117 indicates strong evidence to reject the null hypothesis.\n",
      "...  CS_y\n",
      "r: 0.7032436314938355 is a strong correlation.\n",
      "p: 0.0 indicates strong evidence to reject the null hypothesis.\n",
      "...  BB_y\n",
      "r: 0.6687765861707868 is a strong correlation.\n",
      "p: 0.0 indicates strong evidence to reject the null hypothesis.\n",
      "...  SO_y\n",
      "r: 0.4489827578319569 is a moderate correlation.\n",
      "p: 2.0281873952884611e-125 indicates strong evidence to reject the null hypothesis.\n",
      "...  IBB_y\n",
      "r: 0.40400895826343586 is a moderate correlation.\n",
      "p: 1.1047294672969856e-99 indicates strong evidence to reject the null hypothesis.\n",
      "...  HBP_y\n",
      "r: -0.012731184613363014 is a very Weak correlation.\n",
      "p: 0.5226995293266721 indicates weak evidence to reject the null hypothesis.\n",
      "...  SH_y\n",
      "r: 0.5529578585539023 is a moderate correlation.\n",
      "p: 4.775660945174647e-202 indicates strong evidence to reject the null hypothesis.\n",
      "...  SF_y\n",
      "r: 0.5670756375792251 is a moderate correlation.\n",
      "p: 1.135950039151333e-214 indicates strong evidence to reject the null hypothesis.\n",
      "...  GIDP_y\n",
      "r: 0.672357724761292 is a strong correlation.\n",
      "p: 0.0 indicates strong evidence to reject the null hypothesis.\n",
      "...  BA_y\n",
      "r: 0.0075967033054355725 is a very Weak correlation.\n",
      "p: 0.7029103066849749 indicates weak evidence to reject the null hypothesis.\n",
      "...  last_year_y\n",
      "r: 0.6604515843802468 is a strong correlation.\n",
      "p: 4.76208503e-316 indicates strong evidence to reject the null hypothesis.\n",
      "...  SLG_y\n",
      "r: 0.625941384091206 is a strong correlation.\n",
      "p: 1.5576229490737253e-274 indicates strong evidence to reject the null hypothesis.\n",
      "...  OBP_y\n",
      "r: 0.7006653855602136 is a strong correlation.\n",
      "p: 0.0 indicates strong evidence to reject the null hypothesis.\n",
      "...  OPS_y\n",
      "r: 0.6683527149659698 is a strong correlation.\n",
      "p: 0.0 indicates strong evidence to reject the null hypothesis.\n",
      "...  BA_rank_y\n",
      "r: 0.9445828444306748 is a very Strong correlation.\n",
      "p: 0.0 indicates strong evidence to reject the null hypothesis.\n",
      "...  R_rank_y\n",
      "r: 0.7901180816925887 is a strong correlation.\n",
      "p: 0.0 indicates strong evidence to reject the null hypothesis.\n",
      "...  HR_rank_y\n",
      "r: 0.8953810157019348 is a very Strong correlation.\n",
      "p: 0.0 indicates strong evidence to reject the null hypothesis.\n",
      "...  RBI_rank_y\n",
      "r: 0.5540637436743592 is a moderate correlation.\n",
      "p: 5.151872571902245e-203 indicates strong evidence to reject the null hypothesis.\n",
      "...  SB_rank_y\n",
      "r: 1.0 is a very Strong correlation.\n",
      "p: 0.0 indicates strong evidence to reject the null hypothesis.\n",
      "...  fantasy_score_y\n"
     ]
    }
   ],
   "source": [
    "from scipy.stats.stats import pearsonr\n",
    "\n",
    "def corr_check(x, y):\n",
    "    corr_vals = pearsonr(x, y)\n",
    "    if abs(corr_vals[0]) >= 0.8:\n",
    "        corr_rank = 'very Strong'\n",
    "    elif abs(corr_vals[0]) >= 0.6:\n",
    "        corr_rank = 'strong'\n",
    "    elif abs(corr_vals[0]) >= 0.4:\n",
    "        corr_rank = 'moderate'\n",
    "    elif abs(corr_vals[0]) >= 0.2:\n",
    "        corr_rank = 'weak'\n",
    "    else:\n",
    "        corr_rank = 'very Weak'\n",
    "    if corr_vals[1] < 0.05:\n",
    "        p_rank = 'strong evidence'\n",
    "    else:\n",
    "        p_rank = 'weak evidence'   \n",
    "    print(\"r:\", corr_vals[0], \"is a\", corr_rank, 'correlation.')\n",
    "    print(\"p:\", corr_vals[1], \"indicates\", p_rank, 'to reject the null hypothesis.')\n",
    "\n",
    "\n",
    "for col in data.columns:\n",
    "    try:\n",
    "        corr_check(data.fantasy_score_y, data[col])\n",
    "        print('... ',col)\n",
    "    except:\n",
    "        pass"
   ]
  },
  {
   "cell_type": "code",
   "execution_count": 13,
   "metadata": {},
   "outputs": [
    {
     "name": "stdout",
     "output_type": "stream",
     "text": [
      "                            OLS Regression Results                            \n",
      "==============================================================================\n",
      "Dep. Variable:        fantasy_score_y   R-squared:                       0.266\n",
      "Model:                            OLS   Adj. R-squared:                  0.264\n",
      "Method:                 Least Squares   F-statistic:                     130.1\n",
      "Date:                Mon, 25 Feb 2019   Prob (F-statistic):          1.15e-163\n",
      "Time:                        22:09:13   Log-Likelihood:                 642.51\n",
      "No. Observations:                2523   AIC:                            -1269.\n",
      "Df Residuals:                    2515   BIC:                            -1222.\n",
      "Df Model:                           7                                         \n",
      "Covariance Type:            nonrobust                                         \n",
      "===================================================================================\n",
      "                      coef    std err          t      P>|t|      [0.025      0.975]\n",
      "-----------------------------------------------------------------------------------\n",
      "const               0.2507      0.101      2.494      0.013       0.054       0.448\n",
      "R_x                 0.0014      0.000      3.569      0.000       0.001       0.002\n",
      "RBI_x              -0.0005      0.000     -1.871      0.062      -0.001    2.61e-05\n",
      "fantasy_score_x     0.3923      0.062      6.363      0.000       0.271       0.513\n",
      "OBP_x              -0.1040      0.119     -0.877      0.380      -0.336       0.128\n",
      "OPS_x               0.0583      0.058      1.011      0.312      -0.055       0.171\n",
      "SLG_x               0.1623      0.076      2.128      0.033       0.013       0.312\n",
      "BA_rank_x           0.0377      0.060      0.623      0.533      -0.081       0.156\n",
      "BA_x               -0.0004      0.001     -0.704      0.482      -0.001       0.001\n",
      "==============================================================================\n",
      "Omnibus:                       45.277   Durbin-Watson:                   1.910\n",
      "Prob(Omnibus):                  0.000   Jarque-Bera (JB):               35.787\n",
      "Skew:                          -0.210   Prob(JB):                     1.69e-08\n",
      "Kurtosis:                       2.595   Cond. No.                     4.46e+18\n",
      "==============================================================================\n",
      "\n",
      "Warnings:\n",
      "[1] Standard Errors assume that the covariance matrix of the errors is correctly specified.\n",
      "[2] The smallest eigenvalue is 9.36e-30. This might indicate that there are\n",
      "strong multicollinearity problems or that the design matrix is singular.\n"
     ]
    }
   ],
   "source": [
    "import statsmodels.api as sm\n",
    "\n",
    "y = data.fantasy_score_y\n",
    "X = data[['R_x', 'RBI_x', 'fantasy_score_x', 'OBP_x', 'OPS_x', 'SLG_x', 'BA_rank_x', 'BA_x']]\n",
    "X = sm.add_constant(X)\n",
    "model = sm.OLS(y, X).fit()\n",
    "print(model.summary())"
   ]
  },
  {
   "cell_type": "markdown",
   "metadata": {},
   "source": [
    "We will use Runs, Slugging Percentage, and fantasy_score to predict the next years fantasy score by using linear regression."
   ]
  },
  {
   "cell_type": "code",
   "execution_count": 14,
   "metadata": {},
   "outputs": [
    {
     "name": "stdout",
     "output_type": "stream",
     "text": [
      "                            OLS Regression Results                            \n",
      "==============================================================================\n",
      "Dep. Variable:        fantasy_score_y   R-squared:                       0.265\n",
      "Model:                            OLS   Adj. R-squared:                  0.264\n",
      "Method:                 Least Squares   F-statistic:                     302.0\n",
      "Date:                Mon, 25 Feb 2019   Prob (F-statistic):          1.78e-167\n",
      "Time:                        22:09:15   Log-Likelihood:                 640.36\n",
      "No. Observations:                2523   AIC:                            -1273.\n",
      "Df Residuals:                    2519   BIC:                            -1249.\n",
      "Df Model:                           3                                         \n",
      "Covariance Type:            nonrobust                                         \n",
      "===================================================================================\n",
      "                      coef    std err          t      P>|t|      [0.025      0.975]\n",
      "-----------------------------------------------------------------------------------\n",
      "const               0.1769      0.023      7.647      0.000       0.132       0.222\n",
      "R_x                 0.0012      0.000      3.322      0.001       0.001       0.002\n",
      "fantasy_score_x     0.3485      0.051      6.823      0.000       0.248       0.449\n",
      "SLG_x               0.1994      0.055      3.607      0.000       0.091       0.308\n",
      "==============================================================================\n",
      "Omnibus:                       44.513   Durbin-Watson:                   1.907\n",
      "Prob(Omnibus):                  0.000   Jarque-Bera (JB):               34.925\n",
      "Skew:                          -0.205   Prob(JB):                     2.61e-08\n",
      "Kurtosis:                       2.594   Cond. No.                         993.\n",
      "==============================================================================\n",
      "\n",
      "Warnings:\n",
      "[1] Standard Errors assume that the covariance matrix of the errors is correctly specified.\n"
     ]
    }
   ],
   "source": [
    "y = data.fantasy_score_y\n",
    "X = data[['R_x', 'fantasy_score_x', 'SLG_x']]\n",
    "X = sm.add_constant(X)\n",
    "model = sm.OLS(y, X).fit()\n",
    "print(model.summary())"
   ]
  },
  {
   "cell_type": "markdown",
   "metadata": {},
   "source": [
    "So our predictive model shows:\n",
    "\n",
    "y = 0.1769 + (0.0012 * Runs) + (0.3485 * prior year fantasy score) + (0.1994 * Slugging Percentage)\n",
    "\n",
    "Where y is the following season's fantasy score based on percentile rankings of each category.\n",
    "\n",
    "Let's bring in 2018 data to determine our fantasy score leaders."
   ]
  },
  {
   "cell_type": "code",
   "execution_count": 18,
   "metadata": {},
   "outputs": [
    {
     "name": "stdout",
     "output_type": "stream",
     "text": [
      "Index(['Rk', 'Name', 'Age', 'Tm', 'Lg', 'G', 'PA', 'AB', 'R', 'H', '2B', '3B',\n",
      "       'HR', 'RBI', 'SB', 'CS', 'BB', 'SO', 'BA', 'OBP', 'SLG', 'OPS', 'OPS+',\n",
      "       'TB', 'GDP', 'HBP', 'SH', 'SF', 'IBB', 'Pos Summary'],\n",
      "      dtype='object')\n",
      "        Rk                          Name   Age   Tm  Lg    G   PA   AB    R  \\\n",
      "0    791.0   Francisco Lindor#\\lindofr01  24.0  CLE  AL  158  745  661  129   \n",
      "1    128.0        Mookie Betts\\bettsmo01  25.0  BOS  AL  136  614  520  129   \n",
      "2   1523.0   Christian Yelich*\\yelicch01  26.0  MIL  NL  147  651  574  118   \n",
      "3    863.0       J.D. Martinez\\martijd02  30.0  BOS  AL  150  649  569  111   \n",
      "4   1124.0       Jose Ramirez#\\ramirjo01  25.0  CLE  AL  157  698  578  110   \n",
      "5    168.0        Alex Bregman\\bregmal01  24.0  HOU  AL  157  705  594  105   \n",
      "6    136.0   Charlie Blackmon*\\blackch02  31.0  COL  NL  156  696  626  119   \n",
      "7    214.0     Matt Carpenter*\\carpema01  32.0  STL  NL  156  677  564  111   \n",
      "8     57.0       Nolan Arenado\\arenano01  27.0  COL  NL  156  673  590  104   \n",
      "9     76.0          Javier Baez\\baezja01  25.0  CHC  NL  160  645  606  101   \n",
      "10   606.0       Bryce Harper*\\harpebr03  25.0  WSN  NL  159  695  550  103   \n",
      "11   122.0  Andrew Benintendi*\\beninan01  23.0  BOS  AL  148  661  579  103   \n",
      "12  1323.0   Giancarlo Stanton\\stantmi03  28.0  NYY  AL  158  705  617  102   \n",
      "13   316.0         Khris Davis\\daviskh01  30.0  OAK  AL  151  654  576   98   \n",
      "14    17.0       Ozzie Albies#\\albieoz01  21.0  ATL  NL  158  684  639  105   \n",
      "15   453.0    Freddie Freeman*\\freemfr01  28.0  ATL  NL  162  707  618   94   \n",
      "16   241.0        Matt Chapman\\chapmma01  25.0  OAK  AL  145  616  547  100   \n",
      "17  1410.0         Trea Turner\\turnetr01  25.0  WSN  NL  162  740  664  103   \n",
      "18  1336.0        Trevor Story\\storytr01  25.0  COL  NL  157  656  598   88   \n",
      "19  1396.0          Mike Trout\\troutmi01  26.0  LAA  AL  140  608  471  101   \n",
      "\n",
      "      H     ...         SLG    OPS   OPS+   TB  GDP  HBP  SH  SF  IBB  \\\n",
      "0   183     ...       0.519  0.871  131.0  343    5    8   3   3    7   \n",
      "1   180     ...       0.640  1.078  186.0  333    5    8   0   5    8   \n",
      "2   187     ...       0.598  1.000  164.0  343   14    7   0   2    2   \n",
      "3   188     ...       0.629  1.031  173.0  358   19    4   0   7   11   \n",
      "4   156     ...       0.552  0.939  150.0  319    2    8   0   6   15   \n",
      "5   170     ...       0.532  0.926  156.0  316   15   12   0   3    2   \n",
      "6   182     ...       0.502  0.860  115.0  314   10    8   1   2    2   \n",
      "7   145     ...       0.523  0.897  143.0  295    0    6   0   4   17   \n",
      "8   175     ...       0.561  0.935  133.0  331   16    3   1   6   10   \n",
      "9   176     ...       0.554  0.881  126.0  336   10    5   1   4    8   \n",
      "10  137     ...       0.496  0.889  133.0  273    7    6   0   9   16   \n",
      "11  168     ...       0.465  0.830  123.0  269    9    2   2   7    1   \n",
      "12  164     ...       0.509  0.852  126.0  314   17    8   0  10    5   \n",
      "13  142     ...       0.549  0.874  136.0  316   16   12   0   7    5   \n",
      "14  167     ...       0.452  0.757  102.0  289    9    5   1   3    0   \n",
      "15  191     ...       0.505  0.892  140.0  312   11    7   0   6   12   \n",
      "16  152     ...       0.508  0.864  136.0  278   18    9   0   2    0   \n",
      "17  180     ...       0.416  0.760  100.0  276    7    5   2   0    3   \n",
      "18  174     ...       0.567  0.914  127.0  339   12    7   0   4    3   \n",
      "19  147     ...       0.628  1.088  199.0  296    5   10   0   4   25   \n",
      "\n",
      "    Pos Summary  \n",
      "0          *6/D  \n",
      "1        *98/D4  \n",
      "2          *798  \n",
      "3           D79  \n",
      "4         *54/D  \n",
      "5        *56/47  \n",
      "6          *8/D  \n",
      "7         354/D  \n",
      "8          *5/D  \n",
      "9         465/3  \n",
      "10       *98/3D  \n",
      "11          *78  \n",
      "12          D97  \n",
      "13          *D7  \n",
      "14           *4  \n",
      "15           *3  \n",
      "16           *5  \n",
      "17           *6  \n",
      "18           *6  \n",
      "19          *8D  \n",
      "\n",
      "[20 rows x 30 columns]\n"
     ]
    }
   ],
   "source": [
    "data18 = pd.read_excel(\"~/Documents/Data/fb_regression_project/batting2018.xlsx\")\n",
    "data18 = data18[data18['AB'] >= 100]\n",
    "print(data18.columns)\n",
    "print(data18.head(20))"
   ]
  },
  {
   "cell_type": "markdown",
   "metadata": {},
   "source": [
    "Add in our percentile ranking system:"
   ]
  },
  {
   "cell_type": "code",
   "execution_count": 72,
   "metadata": {},
   "outputs": [
    {
     "name": "stdout",
     "output_type": "stream",
     "text": [
      "         Rk                         Name   Age   Tm  Lg    G   PA   AB    R  \\\n",
      "1     128.0       Mookie Betts\\bettsmo01  25.0  BOS  AL  136  614  520  129   \n",
      "2    1523.0  Christian Yelich*\\yelicch01  26.0  MIL  NL  147  651  574  118   \n",
      "3     863.0      J.D. Martinez\\martijd02  30.0  BOS  AL  150  649  569  111   \n",
      "0     791.0  Francisco Lindor#\\lindofr01  24.0  CLE  AL  158  745  661  129   \n",
      "19   1396.0         Mike Trout\\troutmi01  26.0  LAA  AL  140  608  471  101   \n",
      "4    1124.0      Jose Ramirez#\\ramirjo01  25.0  CLE  AL  157  698  578  110   \n",
      "6     136.0  Charlie Blackmon*\\blackch02  31.0  COL  NL  156  696  626  119   \n",
      "9      76.0         Javier Baez\\baezja01  25.0  CHC  NL  160  645  606  101   \n",
      "5     168.0       Alex Bregman\\bregmal01  24.0  HOU  AL  157  705  594  105   \n",
      "769  1191.0        Enny Romero\\romeren01  27.0  TOT  NL    4    1    1    1   \n",
      "\n",
      "       H     ...      SF  IBB  Pos Summary   BA_rank    R_rank   HR_rank  \\\n",
      "1    180     ...       5    8       *98/D4  0.972532  0.999675  0.986346   \n",
      "2    187     ...       2    2         *798  0.949356  0.998049  0.992523   \n",
      "3    188     ...       7   11          D79  0.951073  0.997074  0.999350   \n",
      "0    183     ...       3    7         *6/D  0.857511  0.999675  0.996099   \n",
      "19   147     ...       4   25          *8D  0.943348  0.989272  0.997724   \n",
      "4    156     ...       6   15        *54/D  0.825322  0.996099  0.997724   \n",
      "6    182     ...       2    2         *8/D  0.900858  0.998700  0.982120   \n",
      "9    176     ...       4    8        465/3  0.896567  0.989272  0.989272   \n",
      "5    170     ...       3    2       *56/47  0.884979  0.995124  0.985046   \n",
      "769    1     ...       0    0           /1  0.995708  0.490247  0.293888   \n",
      "\n",
      "     RBI_rank   SB_rank  fantasy_score  fs_predict  \n",
      "1    0.968466  0.994148       0.984233    0.802321  \n",
      "2    0.997724  0.986996       0.984930    0.780989  \n",
      "3    1.000000  0.908973       0.971294    0.774019  \n",
      "0    0.983745  0.990897       0.965585    0.771695  \n",
      "19   0.966840  0.989272       0.977291    0.763909  \n",
      "4    0.994148  0.997074       0.962073    0.754251  \n",
      "6    0.948635  0.959363       0.957935    0.753639  \n",
      "9    0.998700  0.985046       0.971771    0.747230  \n",
      "5    0.992523  0.947334       0.961001    0.743890  \n",
      "769  0.242523  0.346879       0.473849    0.742036  \n",
      "\n",
      "[10 rows x 37 columns]\n"
     ]
    }
   ],
   "source": [
    "data18[\"fs_predict\"] = 0.1769 + (0.0012 * data18.R) + (0.3485 * data18.fantasy_score) + (0.1994 * data18.SLG)\n",
    "\n",
    "print(data18.sort_values(by = \"fs_predict\", ascending = False).head(10))"
   ]
  },
  {
   "cell_type": "markdown",
   "metadata": {},
   "source": []
  },
  {
   "cell_type": "code",
   "execution_count": 19,
   "metadata": {},
   "outputs": [
    {
     "name": "stdout",
     "output_type": "stream",
     "text": [
      "0    0.944890\n",
      "1    0.968337\n",
      "2    0.982766\n",
      "3    0.940681\n",
      "4    0.941283\n",
      "5    0.924649\n",
      "6    0.910621\n",
      "7    0.822044\n",
      "8    0.866533\n",
      "9    0.954509\n",
      "Name: fantasy_score, dtype: float64\n"
     ]
    }
   ],
   "source": [
    "# lets create our score for this new dataset:\n",
    "# create percentile ranking by year for each metric\n",
    "data18['BA_rank'] = data18['BA'].rank(pct=True)\n",
    "data18['R_rank'] = data18['R'].rank(pct=True)\n",
    "data18['HR_rank'] = data18['HR'].rank(pct=True)\n",
    "data18['RBI_rank'] = data18['RBI'].rank(pct=True)\n",
    "data18['SB_rank'] = data18['SB'].rank(pct=True)\n",
    "data18['fantasy_score'] = pd.Series(0.2 * data18.BA_rank + 0.2 * data18.R_rank + 0.2 * data18.HR_rank + 0.2 * data18.RBI_rank + 0.2 * data18.SB_rank, index=data18.index)\n",
    "\n",
    "print(data18.fantasy_score.head(10))"
   ]
  },
  {
   "cell_type": "code",
   "execution_count": null,
   "metadata": {},
   "outputs": [],
   "source": []
  }
 ],
 "metadata": {
  "kernelspec": {
   "display_name": "Python 3",
   "language": "python",
   "name": "python3"
  },
  "language_info": {
   "codemirror_mode": {
    "name": "ipython",
    "version": 3
   },
   "file_extension": ".py",
   "mimetype": "text/x-python",
   "name": "python",
   "nbconvert_exporter": "python",
   "pygments_lexer": "ipython3",
   "version": "3.7.1"
  }
 },
 "nbformat": 4,
 "nbformat_minor": 2
}
